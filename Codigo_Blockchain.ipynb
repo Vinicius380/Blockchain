{
 "cells": [
  {
   "cell_type": "markdown",
   "metadata": {},
   "source": [
    "#### Criação do bloco e blockchain"
   ]
  },
  {
   "cell_type": "code",
   "execution_count": 11,
   "metadata": {},
   "outputs": [],
   "source": [
    "# Criação do Bloco e Blockchain.\n",
    "import hashlib          # Importa a biblioteca que faz o calculo do hash.\n",
    "import json             # Importa o arquivo que manipula arquivos json.\n",
    "from operator import index\n",
    "from time import time   # Importa a função time para obter o timestamp (data e hora).\n",
    "\n",
    "class Bloco:\n",
    "    def __init__(self, index, dados, hash_anterior=\"\"):\n",
    "        # Inicializar o bloco com os parâmetros fornecidos e os atributos necessários.\n",
    "        self.index = index  \t            # Indice do bloco de cadeia.\n",
    "        self.timestamp = time()             # Registra o momento de criação do bloco. \n",
    "        self.dados = dados                  # Dados armazenados no bloco (Ex: transações).\n",
    "        self.hash_anterior = hash_anterior  # Hash do bloco anterior na cadeia.\n",
    "        self.nonce = 0                      # Valor usado na prova de trabalho para alterar o hash.\n",
    "        self.hash_atual = self.gerar_hash() # Gerar o hash do bloco.\n",
    "    \n",
    "    def gerar_hash(self):\n",
    "        # Função para gerar o hash SHA-256 do bloco.\n",
    "        conteudo_bloco = json.dumps({\n",
    "            'index': self.index,\n",
    "            'timestamp': self.timestamp,\n",
    "            'dados': self.dados,\n",
    "            'hash_anterior': self.hash_anterior,\n",
    "            'nonce': self.nonce\n",
    "        }, sort_keys=True).encode()         # Converte os dados do bloco em uma string JSON ordenada\n",
    "        return hashlib.sha256(conteudo_bloco).hexdigest()  # Calcula o hash e retorna como uma string hexadecimal.\n",
    "    \n",
    "    def prova_de_trabalho(self, dificuldade):\n",
    "        # Realiza a prova de trabalho ajustando o nonce até que o hash comece com 'dificuldade' zeros.\n",
    "        while self.hash_atual[:dificuldade] != '0' * dificuldade:   #\n",
    "            self.nonce += 1                                         # Incrementa o nonce para alterar o hash.\n",
    "            self.hash_atual = self.gerar_hash()                     # Recalcula o hash com o novo nonce.\n",
    "    \n",
    "class Blockchain:\n",
    "    def __init__(self):\n",
    "        # Inicia a cadeia de blocos com o bloco Gênesis (primeiro bloco)e defini a dificuldade da prova de trabalho.\n",
    "        self.cadeia = [self.criar_bloco_genesis()]                  # Lista que armazena os Blocos na cadeia.\n",
    "        self.dificuldade = 2                                        # Define o numero de zeros necessários no hash da prova de trabalho.\n",
    "        \n",
    "    def criar_bloco_genesis(self):\n",
    "        # Cria um bloco inicial com dados fixos.\n",
    "        return Bloco(0, \"Bloco Gênesis\", \"0\")                       # Cria o bloco genesis.\n",
    "    \n",
    "    def obter_ultimo_bloco(self):\n",
    "        # Retorna o último bloco da cadeia.\n",
    "        if len(self.cadeia) < 1:\n",
    "            return None\n",
    "        return self.cadeia[-1] \n",
    "        \n",
    "    def adicionar_bloco(self, novo_bloco):\n",
    "        # Adiciona um novo bloco a cadeia.\n",
    "        novo_bloco.hash_anterior = self.obter_ultimo_bloco().hash_atual     # Define o hash do bloco anterior.\n",
    "        novo_bloco.prova_de_trabalho(self.dificuldade)                      # Realiza a prova de trabalho para alterar o hash. \n",
    "        self.cadeia.append(novo_bloco)                                      # Adiciona o novo bloco à cadeia.\n",
    "    \n",
    "    def validar_cadeia(self):\n",
    "        # Valida a integridade da cadeia de blocos.\n",
    "        for i in range(1, len(self.cadeia)):\n",
    "            bloco_atual = self.cadeia[i]\n",
    "            bloco_anterior = self.cadeia[i-1]\n",
    "            \n",
    "            # Verifica se o hash do bloco atual é válido.\n",
    "            if bloco_atual.hash_atual!= bloco_atual.gerar_hash():\n",
    "                return False\n",
    "            \n",
    "            # Verifica se o hash do bloco anterior é válido.\n",
    "            if bloco_atual.hash_anterior!= bloco_anterior.hash_atual:\n",
    "                return False\n",
    "        \n",
    "        return True                                                         # Retorna verdadeiro se a cadeia for valida.\n",
    "    \n",
    "    def salvar_em_json(self, nome_arquivo='blockchain.json'):\n",
    "        # Salva a cadeia de blocos em um arquivo JSON.\n",
    "        with open(nome_arquivo, 'w') as arquivo:\n",
    "            json.dump([bloco.__dict__ for bloco in self.cadeia], arquivo, indent=4)\n",
    "        \n",
    "# Função para coletar dados de exames médicos. \n",
    "def coletar_dados_exame():\n",
    "    # Implementar a função para coletar dados de exames médicos.\n",
    "    glicose = float(input('Digite o valor da glicose: '))\n",
    "    return {\n",
    "        'glicose': glicose\n",
    "    }                               # Retorna um dicionario com os dados coletados. \n"
   ]
  },
  {
   "cell_type": "markdown",
   "metadata": {},
   "source": [
    "### Instanciar a blockchain"
   ]
  },
  {
   "cell_type": "code",
   "execution_count": 12,
   "metadata": {},
   "outputs": [],
   "source": [
    "blockchain = Blockchain()"
   ]
  },
  {
   "cell_type": "markdown",
   "metadata": {},
   "source": [
    "#### Adicionar um bloco"
   ]
  },
  {
   "cell_type": "code",
   "execution_count": 16,
   "metadata": {},
   "outputs": [
    {
     "name": "stdout",
     "output_type": "stream",
     "text": [
      "Blockchain valida!\n"
     ]
    }
   ],
   "source": [
    "# Coletar os dados de exame do usuario\n",
    "dados_exame = coletar_dados_exame()\n",
    "\n",
    "# Criar um novo bloco com os dados coletados\n",
    "novo_bloco = Bloco(blockchain.obter_ultimo_bloco().index + 1 , dados_exame)\n",
    "# Define o indice do novo bloco como indice do ultimo bloco + 1\n",
    "# Associa os dados coletados ao bloco criado\n",
    "\n",
    "# Adiciona o novo bloco a blockchain \n",
    "blockchain.adicionar_bloco(novo_bloco)\n",
    "\n",
    "# Verificar a integridade da blockchain\n",
    "if blockchain.validar_cadeia():\n",
    "    blockchain.salvar_em_json()\n",
    "    print(\"Blockchain valida!\")\n",
    "else:\n",
    "    print(\"Blockchain Invalida!\")"
   ]
  },
  {
   "cell_type": "markdown",
   "metadata": {},
   "source": [
    "#### Exibir o conteudo do arquivo JSON"
   ]
  },
  {
   "cell_type": "code",
   "execution_count": 19,
   "metadata": {},
   "outputs": [
    {
     "name": "stdout",
     "output_type": "stream",
     "text": [
      "[\n",
      "    {\n",
      "        \"index\": 0,\n",
      "        \"timestamp\": 1733785894.0300276,\n",
      "        \"dados\": \"Bloco G\\u00eanesis\",\n",
      "        \"hash_anterior\": \"0\",\n",
      "        \"nonce\": 0,\n",
      "        \"hash_atual\": \"5aecdafd0b38bcb54d0aaeb0214e122e60b8a23f9e8356a4c5f9d61e59fe6bad\"\n",
      "    },\n",
      "    {\n",
      "        \"index\": 1,\n",
      "        \"timestamp\": 1733785932.4006116,\n",
      "        \"dados\": {\n",
      "            \"glicose\": 450.0\n",
      "        },\n",
      "        \"hash_anterior\": \"5aecdafd0b38bcb54d0aaeb0214e122e60b8a23f9e8356a4c5f9d61e59fe6bad\",\n",
      "        \"nonce\": 407,\n",
      "        \"hash_atual\": \"00e95df411f9b004f6963a6fc257bc0f43172474a2557df92103bffa56bdef61\"\n",
      "    },\n",
      "    {\n",
      "        \"index\": 2,\n",
      "        \"timestamp\": 1733786181.5748737,\n",
      "        \"dados\": {\n",
      "            \"glicose\": 450.0\n",
      "        },\n",
      "        \"hash_anterior\": \"00e95df411f9b004f6963a6fc257bc0f43172474a2557df92103bffa56bdef61\",\n",
      "        \"nonce\": 124,\n",
      "        \"hash_atual\": \"0030d198486b6bbefb993bdb232e32821e36d885d155d6c84f9706ed1084f6fb\"\n",
      "    },\n",
      "    {\n",
      "        \"index\": 3,\n",
      "        \"timestamp\": 1733786211.6874392,\n",
      "        \"dados\": {\n",
      "            \"glicose\": 9000000000000.0\n",
      "        },\n",
      "        \"hash_anterior\": \"0030d198486b6bbefb993bdb232e32821e36d885d155d6c84f9706ed1084f6fb\",\n",
      "        \"nonce\": 188,\n",
      "        \"hash_atual\": \"00f3e694c39d7c02c61e49068ef10d1bbdc64c01f0f821464c5517eb603b84dc\"\n",
      "    },\n",
      "    {\n",
      "        \"index\": 4,\n",
      "        \"timestamp\": 1733786356.2729104,\n",
      "        \"dados\": {\n",
      "            \"glicose\": 300.0\n",
      "        },\n",
      "        \"hash_anterior\": \"00f3e694c39d7c02c61e49068ef10d1bbdc64c01f0f821464c5517eb603b84dc\",\n",
      "        \"nonce\": 79,\n",
      "        \"hash_atual\": \"00f8ef7c92f7a258c76ca7c4b7ba2c30e817db58f861e53edcacc982f4f10bd0\"\n",
      "    }\n",
      "]\n"
     ]
    }
   ],
   "source": [
    "def print_json_content(filename):\n",
    "    #tenta abrir e processar o arquivo json\n",
    "    try:\n",
    "        with open(filename, 'r') as file:\n",
    "            data = json.load(file)\n",
    "            print(json.dumps(data, indent=4))\n",
    "\n",
    "    except FileNotFoundError:\n",
    "        print(f\"Erro: Arquivo {filename} não encontrado\")\n",
    "    except json.JSOMDecodeError:\n",
    "        print(f\"Erro: Arquivo {filename} não é um json valido\")\n",
    "print_json_content('blockchain.json')"
   ]
  }
 ],
 "metadata": {
  "kernelspec": {
   "display_name": "Python 3",
   "language": "python",
   "name": "python3"
  },
  "language_info": {
   "codemirror_mode": {
    "name": "ipython",
    "version": 3
   },
   "file_extension": ".py",
   "mimetype": "text/x-python",
   "name": "python",
   "nbconvert_exporter": "python",
   "pygments_lexer": "ipython3",
   "version": "3.12.1"
  }
 },
 "nbformat": 4,
 "nbformat_minor": 2
}
